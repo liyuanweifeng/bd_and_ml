{
 "cells": [
  {
   "cell_type": "code",
   "execution_count": 127,
   "metadata": {},
   "outputs": [],
   "source": [
    "#编码coding=utf-8"
   ]
  },
  {
   "cell_type": "code",
   "execution_count": 128,
   "metadata": {},
   "outputs": [],
   "source": [
    "import numpy as np"
   ]
  },
  {
   "cell_type": "code",
   "execution_count": 129,
   "metadata": {},
   "outputs": [],
   "source": [
    "import matplotlib.pyplot as plt"
   ]
  },
  {
   "cell_type": "code",
   "execution_count": 130,
   "metadata": {},
   "outputs": [],
   "source": [
    "from sklearn.cluster import DBSCAN"
   ]
  },
  {
   "cell_type": "code",
   "execution_count": 131,
   "metadata": {},
   "outputs": [],
   "source": [
    "#读数据"
   ]
  },
  {
   "cell_type": "code",
   "execution_count": 132,
   "metadata": {},
   "outputs": [],
   "source": [
    "X=[\n",
    "    [9670250,1392358258],#中国\n",
    "    [2980000,1247923065],#印度\n",
    "    [9629091,317408015],#美国\n",
    "    [8514877,201032714],#巴西\n",
    "    [377873,127270000],#日本\n",
    "    [7692024,23540517],#澳大利亚\n",
    "    [9984670,34591000],#加拿大\n",
    "    [17075400,143551289],#俄罗斯\n",
    "    [513115,67041000],#泰国\n",
    "    [181035,14805358],#柬埔寨\n",
    "    [99600,50400000],#韩国\n",
    "    [120538,24052231],#朝鲜\n",
    "]"
   ]
  },
  {
   "cell_type": "code",
   "execution_count": 133,
   "metadata": {},
   "outputs": [
    {
     "data": {
      "text/plain": [
       "[[9670250, 1392358258],\n",
       " [2980000, 1247923065],\n",
       " [9629091, 317408015],\n",
       " [8514877, 201032714],\n",
       " [377873, 127270000],\n",
       " [7692024, 23540517],\n",
       " [9984670, 34591000],\n",
       " [17075400, 143551289],\n",
       " [513115, 67041000],\n",
       " [181035, 14805358],\n",
       " [99600, 50400000],\n",
       " [120538, 24052231]]"
      ]
     },
     "execution_count": 133,
     "metadata": {},
     "output_type": "execute_result"
    }
   ],
   "source": [
    "X"
   ]
  },
  {
   "cell_type": "code",
   "execution_count": 134,
   "metadata": {},
   "outputs": [],
   "source": [
    "X=np.array(X)"
   ]
  },
  {
   "cell_type": "code",
   "execution_count": 135,
   "metadata": {
    "scrolled": true
   },
   "outputs": [
    {
     "data": {
      "text/plain": [
       "array([[   9670250, 1392358258],\n",
       "       [   2980000, 1247923065],\n",
       "       [   9629091,  317408015],\n",
       "       [   8514877,  201032714],\n",
       "       [    377873,  127270000],\n",
       "       [   7692024,   23540517],\n",
       "       [   9984670,   34591000],\n",
       "       [  17075400,  143551289],\n",
       "       [    513115,   67041000],\n",
       "       [    181035,   14805358],\n",
       "       [     99600,   50400000],\n",
       "       [    120538,   24052231]])"
      ]
     },
     "execution_count": 135,
     "metadata": {},
     "output_type": "execute_result"
    }
   ],
   "source": [
    "X"
   ]
  },
  {
   "cell_type": "code",
   "execution_count": 136,
   "metadata": {},
   "outputs": [],
   "source": [
    "#归一化"
   ]
  },
  {
   "cell_type": "code",
   "execution_count": 137,
   "metadata": {},
   "outputs": [
    {
     "data": {
      "text/plain": [
       "array([[ 9670250],\n",
       "       [ 2980000],\n",
       "       [ 9629091],\n",
       "       [ 8514877],\n",
       "       [  377873],\n",
       "       [ 7692024],\n",
       "       [ 9984670],\n",
       "       [17075400],\n",
       "       [  513115],\n",
       "       [  181035],\n",
       "       [   99600],\n",
       "       [  120538]])"
      ]
     },
     "execution_count": 137,
     "metadata": {},
     "output_type": "execute_result"
    }
   ],
   "source": [
    "X[:,:1]"
   ]
  },
  {
   "cell_type": "code",
   "execution_count": 138,
   "metadata": {},
   "outputs": [
    {
     "data": {
      "text/plain": [
       "array([[1392358258],\n",
       "       [1247923065],\n",
       "       [ 317408015],\n",
       "       [ 201032714],\n",
       "       [ 127270000],\n",
       "       [  23540517],\n",
       "       [  34591000],\n",
       "       [ 143551289],\n",
       "       [  67041000],\n",
       "       [  14805358],\n",
       "       [  50400000],\n",
       "       [  24052231]])"
      ]
     },
     "execution_count": 138,
     "metadata": {},
     "output_type": "execute_result"
    }
   ],
   "source": [
    "X[:,1:]"
   ]
  },
  {
   "cell_type": "code",
   "execution_count": 139,
   "metadata": {},
   "outputs": [],
   "source": [
    "a=X[:,:1]/17075400.0*10000\n",
    "b=X[:,1:]/1392358258.0*10000"
   ]
  },
  {
   "cell_type": "code",
   "execution_count": 140,
   "metadata": {},
   "outputs": [
    {
     "data": {
      "text/plain": [
       "array([[ 5663.26411094],\n",
       "       [ 1745.20069808],\n",
       "       [ 5639.15984399],\n",
       "       [ 4986.63398808],\n",
       "       [  221.29671926],\n",
       "       [ 4504.7401525 ],\n",
       "       [ 5847.40035373],\n",
       "       [10000.        ],\n",
       "       [  300.49954906],\n",
       "       [  106.02094241],\n",
       "       [   58.32952669],\n",
       "       [   70.59161132]])"
      ]
     },
     "execution_count": 140,
     "metadata": {},
     "output_type": "execute_result"
    }
   ],
   "source": [
    "a"
   ]
  },
  {
   "cell_type": "code",
   "execution_count": 141,
   "metadata": {},
   "outputs": [
    {
     "data": {
      "text/plain": [
       "array([[10000.        ],\n",
       "       [ 8962.65783486],\n",
       "       [ 2279.64328273],\n",
       "       [ 1443.82893444],\n",
       "       [  914.06072589],\n",
       "       [  169.06939622],\n",
       "       [  248.43462378],\n",
       "       [ 1030.99391392],\n",
       "       [  481.49245796],\n",
       "       [  106.33296362],\n",
       "       [  361.97580407],\n",
       "       [  172.74455667]])"
      ]
     },
     "execution_count": 141,
     "metadata": {},
     "output_type": "execute_result"
    }
   ],
   "source": [
    "b"
   ]
  },
  {
   "cell_type": "code",
   "execution_count": 142,
   "metadata": {},
   "outputs": [],
   "source": [
    "X=np.concatenate((a,b),axis=1)"
   ]
  },
  {
   "cell_type": "code",
   "execution_count": 143,
   "metadata": {
    "scrolled": true
   },
   "outputs": [
    {
     "data": {
      "text/plain": [
       "array([[ 5663.26411094, 10000.        ],\n",
       "       [ 1745.20069808,  8962.65783486],\n",
       "       [ 5639.15984399,  2279.64328273],\n",
       "       [ 4986.63398808,  1443.82893444],\n",
       "       [  221.29671926,   914.06072589],\n",
       "       [ 4504.7401525 ,   169.06939622],\n",
       "       [ 5847.40035373,   248.43462378],\n",
       "       [10000.        ,  1030.99391392],\n",
       "       [  300.49954906,   481.49245796],\n",
       "       [  106.02094241,   106.33296362],\n",
       "       [   58.32952669,   361.97580407],\n",
       "       [   70.59161132,   172.74455667]])"
      ]
     },
     "execution_count": 143,
     "metadata": {},
     "output_type": "execute_result"
    }
   ],
   "source": [
    "X"
   ]
  },
  {
   "cell_type": "code",
   "execution_count": 144,
   "metadata": {},
   "outputs": [],
   "source": [
    "#训练"
   ]
  },
  {
   "cell_type": "code",
   "execution_count": 145,
   "metadata": {},
   "outputs": [],
   "source": [
    "cls=DBSCAN(eps=2000,min_samples=1).fit(X)"
   ]
  },
  {
   "cell_type": "code",
   "execution_count": 146,
   "metadata": {},
   "outputs": [
    {
     "data": {
      "text/plain": [
       "DBSCAN(algorithm='auto', eps=2000, leaf_size=30, metric='euclidean',\n",
       "    metric_params=None, min_samples=1, n_jobs=1, p=None)"
      ]
     },
     "execution_count": 146,
     "metadata": {},
     "output_type": "execute_result"
    }
   ],
   "source": [
    "cls"
   ]
  },
  {
   "cell_type": "code",
   "execution_count": 147,
   "metadata": {},
   "outputs": [],
   "source": [
    "n_clusters=len(set(cls.labels_))"
   ]
  },
  {
   "cell_type": "code",
   "execution_count": 148,
   "metadata": {},
   "outputs": [
    {
     "data": {
      "text/plain": [
       "5"
      ]
     },
     "execution_count": 148,
     "metadata": {},
     "output_type": "execute_result"
    }
   ],
   "source": [
    "n_clusters"
   ]
  },
  {
   "cell_type": "code",
   "execution_count": 149,
   "metadata": {},
   "outputs": [
    {
     "data": {
      "text/plain": [
       "array([0, 1, 2, 2, 3, 2, 2, 4, 3, 3, 3, 3], dtype=int64)"
      ]
     },
     "execution_count": 149,
     "metadata": {},
     "output_type": "execute_result"
    }
   ],
   "source": [
    "cls.labels_"
   ]
  },
  {
   "cell_type": "code",
   "execution_count": 150,
   "metadata": {},
   "outputs": [
    {
     "data": {
      "image/png": "[encoded data removed]",
      "text/plain": [
       "<Figure size 432x288 with 1 Axes>"
      ]
     },
     "metadata": {
      "needs_background": "light"
     },
     "output_type": "display_data"
    }
   ],
   "source": [
    "markers=['^','x','o','*','+']\n",
    "for i in range(n_clusters):\n",
    "    members=cls.labels_==i\n",
    "    plt.scatter(X[members,0],X[members,1],s=60,marker=markers[i],c='b',alpha=0.5)\n",
    "plt.title('dbscan')\n",
    "plt.show()"
   ]
  },
  {
   "cell_type": "code",
   "execution_count": null,
   "metadata": {},
   "outputs": [],
   "source": []
  }
 ],
 "metadata": {
  "kernelspec": {
   "display_name": "Python 3",
   "language": "python",
   "name": "python3"
  },
  "language_info": {
   "codemirror_mode": {
    "name": "ipython",
    "version": 3
   },
   "file_extension": ".py",
   "mimetype": "text/x-python",
   "name": "python",
   "nbconvert_exporter": "python",
   "pygments_lexer": "ipython3",
   "version": "3.7.0"
  }
 },
 "nbformat": 4,
 "nbformat_minor": 2
}
